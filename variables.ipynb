{
  "nbformat": 4,
  "nbformat_minor": 0,
  "metadata": {
    "colab": {
      "provenance": []
    },
    "kernelspec": {
      "name": "python3",
      "display_name": "Python 3"
    },
    "language_info": {
      "name": "python"
    }
  },
  "cells": [
    {
      "cell_type": "code",
      "execution_count": 20,
      "metadata": {
        "colab": {
          "base_uri": "https://localhost:8080/"
        },
        "id": "Mt2_J8ZIay8u",
        "outputId": "3a1b7b68-7b61-49a6-b659-9d8d37f2810f"
      },
      "outputs": [
        {
          "output_type": "stream",
          "name": "stdout",
          "text": [
            "Orange\n",
            "Red\n",
            "Blue <class 'str'>\n",
            "black\n",
            "black\n",
            "black\n",
            "Akhil\n",
            "Unni\n",
            "Isu\n",
            "Akhil  love  rose\n",
            "12\n",
            "5 akhil\n"
          ]
        }
      ],
      "source": [
        "x,y,z=\"Orange\",\"Red\",\"Blue\"\n",
        "print(x)\n",
        "print(y)\n",
        "print(z,type(z))\n",
        "\n",
        "x = y = z= \"black\"\n",
        "print(x)\n",
        "print(y)\n",
        "print(z)\n",
        "\n",
        "Name = ('Akhil',\"Unni\",\"Isu\")\n",
        "x,y,z=Name\n",
        "print(x)\n",
        "print(y)\n",
        "print(z)\n",
        "\n",
        "x=\"Akhil \"\n",
        "y=\"love \"\n",
        "z=\"rose\"\n",
        "print(x,y,z)\n",
        "\n",
        "x=5\n",
        "y=7\n",
        "print(x+y)\n",
        "\n",
        "x=5\n",
        "y=\"akhil\"\n",
        "print(x,y)\n",
        "\n",
        "\n",
        "\n",
        "\n",
        "\n",
        "\n",
        "\n",
        "\n",
        "\n",
        "\n"
      ]
    }
  ]
}